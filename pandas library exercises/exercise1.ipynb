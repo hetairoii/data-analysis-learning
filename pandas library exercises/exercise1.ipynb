{
 "cells": [
  {
   "cell_type": "markdown",
   "id": "c765dba7",
   "metadata": {},
   "source": [
    "Escribir un programa que pregunte al usuario por las ventas de un rango de años y muestre por pantalla una serie con los datos de las ventas indexada por los años, antes y después de aplicarles un descuento del 10%."
   ]
  },
  {
   "cell_type": "code",
   "execution_count": 2,
   "id": "f8adec2f",
   "metadata": {},
   "outputs": [
    {
     "name": "stdout",
     "output_type": "stream",
     "text": [
      "Ventas:\n",
      "2001    8429.0\n",
      "2002    8512.0\n",
      "2003    2387.0\n",
      "dtype: float64\n",
      "Ventas al aplicarles descuento del 10%:\n",
      "2001    7586.1\n",
      "2002    7660.8\n",
      "2003    2148.3\n",
      "dtype: float64\n"
     ]
    }
   ],
   "source": [
    "import pandas as pd\n",
    "\n",
    "inicio = int(input(\"ingrese el año inicial: \"))\n",
    "fin = int(input(\"ingrese el año final: \"))\n",
    "ventas = {}\n",
    "for i in range(inicio, fin+1):\n",
    "    ventas[i] = float(input('Introduce las ventas del año ' + str(i) +': '))\n",
    "ventas = pd.Series(ventas)\n",
    "print(f'Ventas:\\n{ventas}')\n",
    "print(f'Ventas al aplicarles descuento del 10%:\\n{ventas*0.9}')\n",
    "\n"
   ]
  }
 ],
 "metadata": {
  "kernelspec": {
   "display_name": "Python 3",
   "language": "python",
   "name": "python3"
  },
  "language_info": {
   "codemirror_mode": {
    "name": "ipython",
    "version": 3
   },
   "file_extension": ".py",
   "mimetype": "text/x-python",
   "name": "python",
   "nbconvert_exporter": "python",
   "pygments_lexer": "ipython3",
   "version": "3.12.1"
  }
 },
 "nbformat": 4,
 "nbformat_minor": 5
}
